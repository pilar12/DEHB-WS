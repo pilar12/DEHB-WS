{
  "nbformat": 4,
  "nbformat_minor": 0,
  "metadata": {
    "colab": {
      "name": "automl.ipynb",
      "provenance": [],
      "collapsed_sections": [],
      "toc_visible": true,
      "mount_file_id": "1MnL11480gj9EYyoFDQ6VKYGuhX5dAvtO",
      "authorship_tag": "ABX9TyMdTh13Qtzl4oqtSt6n28Ya",
      "include_colab_link": true
    },
    "kernelspec": {
      "name": "python3",
      "display_name": "Python 3"
    },
    "language_info": {
      "name": "python"
    },
    "accelerator": "GPU",
    "gpuClass": "standard"
  },
  "cells": [
    {
      "cell_type": "markdown",
      "metadata": {
        "id": "view-in-github",
        "colab_type": "text"
      },
      "source": [
        "<a href=\"https://colab.research.google.com/github/automl-classroom/final-project-autobots/blob/sharat_dev/automl.ipynb\" target=\"_parent\"><img src=\"https://colab.research.google.com/assets/colab-badge.svg\" alt=\"Open In Colab\"/></a>"
      ]
    },
    {
      "cell_type": "code",
      "source": [
        "from google.colab import drive\n",
        "drive.mount('/content/drive')\n",
        "# !ssh-keygen -t rsa -b 4096\n",
        "# !ssh-keyscan -t rsa github.com >> ~/.ssh/known_hosts\n",
        "# !cat /root/.ssh/id_rsa.pub\n",
        "#!cp ~/.ssh/id_rsa ~/.ssh/id_rsa.pub /content/drive/MyDrive/automl\n",
        "!cp  /content/drive/MyDrive/automl/id_rsa* ~/.ssh/\n"
      ],
      "metadata": {
        "colab": {
          "base_uri": "https://localhost:8080/"
        },
        "id": "aPsGbc29pXOf",
        "outputId": "ea3e90af-483b-41ea-d4b2-06e2133232e3"
      },
      "execution_count": null,
      "outputs": [
        {
          "output_type": "stream",
          "name": "stdout",
          "text": [
            "Generating public/private rsa key pair.\n",
            "Enter file in which to save the key (/root/.ssh/id_rsa): \n",
            "Created directory '/root/.ssh'.\n",
            "Enter passphrase (empty for no passphrase): \n",
            "Enter same passphrase again: \n",
            "Your identification has been saved in /root/.ssh/id_rsa.\n",
            "Your public key has been saved in /root/.ssh/id_rsa.pub.\n",
            "The key fingerprint is:\n",
            "SHA256:TDRYolC6bxFn9IP1roC01hfLfl0ThycU5iDgU+Qkj0E root@0af1818c892c\n",
            "The key's randomart image is:\n",
            "+---[RSA 4096]----+\n",
            "|  ... o+Eo= . +. |\n",
            "|   o o.B @ . = . |\n",
            "|  . + + O +   = o|\n",
            "|   o B + *     = |\n",
            "|  . = o S .   o  |\n",
            "|   o . + . . . . |\n",
            "|    o   o . .    |\n",
            "|   .     .       |\n",
            "|                 |\n",
            "+----[SHA256]-----+\n",
            "# github.com:22 SSH-2.0-babeld-3e6b7bc8\n",
            "ssh-rsa AAAAB3NzaC1yc2EAAAADAQABAAACAQC6r7AbmVXh8RXWUNKLF4YbgMpLxtf0ZBtwNst9gWiVj78GX5e7r2QgRfZPvKNms/dg6vJc3zj0AinSKxLizesr7kYMzST/Tzv9rK8yrzn7mhz7zdpWffw5CMqngAbY3/oQDKqDts1KilDR2orFMfbEI64wv6/AhPHPt1Ao1XnxIx165rQ8KgLmlgh4TVmPTg96ICBZ0F4ZhySMNuVSQQ2Nrb2tRxzPovMZYS9Yk+ie/w37p2EJAoAoxb3AV8OkHQmCZi7Yv/vMgM5gbXHJyNW5SPsJBVXIIRFVJl6MNMw5zC2ENEryTdSsf9cWDDTSUcgcJ6VpoSDpBsWmY+DCCrFXNX8v/rWTWSYfGDAtEo/p1pMn2LwjTtBI/UnceJlFS/zWd07/8E23JtxrX8kG1ngRj+g1tPabZqd/UpbGYqdM16ThlyUhqF9V2wLFrGEqfF3S4fwssZxjOUL2UX0/MgcZYpyOcjNKs+3eTjeOotbPWGxiNBxHOO4fu04af+YPYjRjitZ+AHoZ7FGUD5W60jFZhhDiNMRBb6XyhW4qBScGbC0lLHEhB3HUCNGxUEF33LHAbNkFrZ5Exhh24SrJvL9JQ0q9UzUoFH8zl7f0cpKxbj/CPEiAA98Ffb4ffP6STqdYNEsBMAE6kpTTKSGbsfhF0yMQ36RD8Az1+6g1qUnnsQ== root@0af1818c892c\n"
          ]
        }
      ]
    },
    {
      "cell_type": "markdown",
      "source": [
        ""
      ],
      "metadata": {
        "id": "TWM8pVkGqGU3"
      }
    },
    {
      "cell_type": "code",
      "source": [
        "!sudo apt-get update -y\n",
        "!sudo apt-get install python3.8 \n",
        "!sudo update-alternatives --install /usr/bin/python3 python3 /usr/bin/python3.8 0\n",
        "!sudo update-alternatives --config python3\n",
        "!wget https://bootstrap.pypa.io/get-pip.py\n",
        "!python3.8 get-pip.py"
      ],
      "metadata": {
        "colab": {
          "base_uri": "https://localhost:8080/"
        },
        "id": "pTlhhTxwmDfe",
        "outputId": "db26a64c-c2aa-4b8c-b3af-76d66805d613"
      },
      "execution_count": null,
      "outputs": [
        {
          "output_type": "stream",
          "name": "stdout",
          "text": [
            "--2022-08-23 21:55:37--  https://bootstrap.pypa.io/get-pip.py\n",
            "Resolving bootstrap.pypa.io (bootstrap.pypa.io)... 151.101.0.175, 151.101.64.175, 151.101.128.175, ...\n",
            "Connecting to bootstrap.pypa.io (bootstrap.pypa.io)|151.101.0.175|:443... connected.\n",
            "HTTP request sent, awaiting response... 200 OK\n",
            "Length: 2560808 (2.4M) [text/x-python]\n",
            "Saving to: ‘get-pip.py’\n",
            "\n",
            "\rget-pip.py            0%[                    ]       0  --.-KB/s               \rget-pip.py          100%[===================>]   2.44M  --.-KB/s    in 0.03s   \n",
            "\n",
            "2022-08-23 21:55:37 (70.9 MB/s) - ‘get-pip.py’ saved [2560808/2560808]\n",
            "\n",
            "Looking in indexes: https://pypi.org/simple, https://us-python.pkg.dev/colab-wheels/public/simple/\n",
            "Collecting pip\n",
            "  Downloading pip-22.2.2-py3-none-any.whl (2.0 MB)\n",
            "\u001b[2K     \u001b[90m━━━━━━━━━━━━━━━━━━━━━━━━━━━━━━━━━━━━━━━━\u001b[0m \u001b[32m2.0/2.0 MB\u001b[0m \u001b[31m44.6 MB/s\u001b[0m eta \u001b[36m0:00:00\u001b[0m\n",
            "\u001b[?25hInstalling collected packages: pip\n",
            "  Attempting uninstall: pip\n",
            "    Found existing installation: pip 9.0.1\n",
            "    Uninstalling pip-9.0.1:\n",
            "      Successfully uninstalled pip-9.0.1\n",
            "Successfully installed pip-22.2.2\n",
            "\u001b[33mWARNING: Running pip as the 'root' user can result in broken permissions and conflicting behaviour with the system package manager. It is recommended to use a virtual environment instead: https://pip.pypa.io/warnings/venv\u001b[0m\u001b[33m\n",
            "\u001b[0m"
          ]
        }
      ]
    },
    {
      "cell_type": "code",
      "source": [
        "!ssh -T git@github.com\n",
        "!git clone git@github.com:automl-classroom/final-project-autobots.git\n",
        "!cd final-project-autobots/ && git checkout sharat_dev\n",
        "!cd final-project-autobots/jahs_fashion/jahs_fashion && pip install -r requirements_colab.txt"
      ],
      "metadata": {
        "colab": {
          "base_uri": "https://localhost:8080/"
        },
        "id": "sd1VbvJmn5Z1",
        "outputId": "f6635ece-bade-4d5b-dc08-238933c3366b"
      },
      "execution_count": null,
      "outputs": [
        {
          "output_type": "stream",
          "name": "stdout",
          "text": [
            "Checking out files:  47% (31/65)   \rChecking out files:  49% (32/65)   \rChecking out files:  50% (33/65)   \rChecking out files:  52% (34/65)   \rChecking out files:  53% (35/65)   \rChecking out files:  55% (36/65)   \rChecking out files:  56% (37/65)   \rChecking out files:  58% (38/65)   \rChecking out files:  60% (39/65)   \rChecking out files:  61% (40/65)   \rChecking out files:  63% (41/65)   \rChecking out files:  64% (42/65)   \rChecking out files:  66% (43/65)   \rChecking out files:  67% (44/65)   \rChecking out files:  69% (45/65)   \rChecking out files:  70% (46/65)   \rChecking out files:  72% (47/65)   \rChecking out files:  73% (48/65)   \rChecking out files:  75% (49/65)   \rChecking out files:  76% (50/65)   \rChecking out files:  78% (51/65)   \rChecking out files:  80% (52/65)   \rChecking out files:  81% (53/65)   \rChecking out files:  83% (54/65)   \rChecking out files:  84% (55/65)   \rChecking out files:  86% (56/65)   \rChecking out files:  87% (57/65)   \rChecking out files:  89% (58/65)   \rChecking out files:  90% (59/65)   \rChecking out files:  92% (60/65)   \rChecking out files:  93% (61/65)   \rChecking out files:  95% (62/65)   \rChecking out files:  96% (63/65)   \rChecking out files:  98% (64/65)   \rChecking out files: 100% (65/65)   \rChecking out files: 100% (65/65), done.\n",
            "Branch 'sharat_dev' set up to track remote branch 'sharat_dev' from 'origin'.\n",
            "Switched to a new branch 'sharat_dev'\n"
          ]
        }
      ]
    },
    {
      "cell_type": "code",
      "source": [
        "!cd final-project-autobots/jahs_fashion/jahs_fashion/ && python3 run_hpo_nas.py --configs defaults dehbws --func_evals 4 --max_budget 2 "
      ],
      "metadata": {
        "colab": {
          "base_uri": "https://localhost:8080/"
        },
        "id": "tQJCDp32t-mc",
        "outputId": "52a1d24f-1702-4ab2-e7ef-2fa3cab3d191"
      },
      "execution_count": null,
      "outputs": [
        {
          "output_type": "stream",
          "name": "stdout",
          "text": [
            "\n",
            "Logging at /content/final-project-autobots/jahs_fashion/jahs_fashion/./results/dehbws_results/42/dehb_08-23-22_22-21-43_UTC.log for optimization starting at 08/23/22 22:21:43 UTC\n",
            "\n",
            "[0.23089383 0.18343479 0.05       0.4        0.4        0.24102547\n",
            " 0.8        0.6        0.         0.25       0.68326352]\n",
            "1\n",
            "\u001b[32m2022-08-23 22:22:46.331\u001b[0m | \u001b[1mINFO    \u001b[0m | \u001b[36mdehb.optimizers.dehb\u001b[0m:\u001b[36m_verbosity_runtime\u001b[0m:\u001b[36m706\u001b[0m - \u001b[1m0/4 function evaluation(s) done\u001b[0m\n",
            "\u001b[32m2022-08-23 22:22:46.332\u001b[0m | \u001b[1mINFO    \u001b[0m | \u001b[36mdehbws\u001b[0m:\u001b[36mrun\u001b[0m:\u001b[36m200\u001b[0m - \u001b[1mEvaluating a configuration with budget 1.0 under bracket ID 0\u001b[0m\n",
            "\u001b[32m2022-08-23 22:22:46.332\u001b[0m | \u001b[1mINFO    \u001b[0m | \u001b[36mdehbws\u001b[0m:\u001b[36mrun\u001b[0m:\u001b[36m204\u001b[0m - \u001b[1mBest score seen/Incumbent score: inf\u001b[0m\n",
            "[0.65107703 0.31817773 0.2375     0.65       0.65       0.91495968\n",
            " 0.8        0.2        0.         0.5        0.30424224]\n",
            "1\n",
            "\u001b[32m2022-08-23 22:23:19.708\u001b[0m | \u001b[1mINFO    \u001b[0m | \u001b[36mdehb.optimizers.dehb\u001b[0m:\u001b[36m_verbosity_runtime\u001b[0m:\u001b[36m706\u001b[0m - \u001b[1m1/4 function evaluation(s) done\u001b[0m\n",
            "\u001b[32m2022-08-23 22:23:19.708\u001b[0m | \u001b[1mINFO    \u001b[0m | \u001b[36mdehbws\u001b[0m:\u001b[36mrun\u001b[0m:\u001b[36m200\u001b[0m - \u001b[1mEvaluating a configuration with budget 1.0 under bracket ID 0\u001b[0m\n",
            "\u001b[32m2022-08-23 22:23:19.709\u001b[0m | \u001b[1mINFO    \u001b[0m | \u001b[36mdehbws\u001b[0m:\u001b[36mrun\u001b[0m:\u001b[36m204\u001b[0m - \u001b[1mBest score seen/Incumbent score: 0.25820105828936135\u001b[0m\n",
            "[0.23089383 0.18343479 0.05       0.4        0.4        0.24102547\n",
            " 0.8        0.6        0.         0.25       0.68326352]\n",
            "1\n",
            "2\n",
            "\u001b[32m2022-08-23 22:25:14.323\u001b[0m | \u001b[1mINFO    \u001b[0m | \u001b[36mdehb.optimizers.dehb\u001b[0m:\u001b[36m_verbosity_runtime\u001b[0m:\u001b[36m706\u001b[0m - \u001b[1m2/4 function evaluation(s) done\u001b[0m\n",
            "\u001b[32m2022-08-23 22:25:14.324\u001b[0m | \u001b[1mINFO    \u001b[0m | \u001b[36mdehbws\u001b[0m:\u001b[36mrun\u001b[0m:\u001b[36m200\u001b[0m - \u001b[1mEvaluating a configuration with budget 2.0 under bracket ID 0\u001b[0m\n",
            "\u001b[32m2022-08-23 22:25:14.324\u001b[0m | \u001b[1mINFO    \u001b[0m | \u001b[36mdehbws\u001b[0m:\u001b[36mrun\u001b[0m:\u001b[36m204\u001b[0m - \u001b[1mBest score seen/Incumbent score: 0.25820105828936135\u001b[0m\n",
            "[0.54603123 0.29122914 0.190625   0.5875     0.5875     0.74647612\n",
            " 0.8        0.8        0.         0.         0.94220176]\n",
            "1\n",
            "2\n",
            "\u001b[32m2022-08-23 22:27:00.880\u001b[0m | \u001b[1mINFO    \u001b[0m | \u001b[36mdehb.optimizers.dehb\u001b[0m:\u001b[36m_verbosity_runtime\u001b[0m:\u001b[36m706\u001b[0m - \u001b[1m3/4 function evaluation(s) done\u001b[0m\n",
            "\u001b[32m2022-08-23 22:27:00.880\u001b[0m | \u001b[1mINFO    \u001b[0m | \u001b[36mdehbws\u001b[0m:\u001b[36mrun\u001b[0m:\u001b[36m200\u001b[0m - \u001b[1mEvaluating a configuration with budget 2.0 under bracket ID 1\u001b[0m\n",
            "\u001b[32m2022-08-23 22:27:00.881\u001b[0m | \u001b[1mINFO    \u001b[0m | \u001b[36mdehbws\u001b[0m:\u001b[36mrun\u001b[0m:\u001b[36m204\u001b[0m - \u001b[1mBest score seen/Incumbent score: 0.2081481479715418\u001b[0m\n",
            "\u001b[32m2022-08-23 22:27:01.403\u001b[0m | \u001b[1mINFO    \u001b[0m | \u001b[36mdehbws\u001b[0m:\u001b[36mrun\u001b[0m:\u001b[36m230\u001b[0m - \u001b[1mEnd of optimisation! Total duration: 317.87268233299255; Total fevals: 4\n",
            "\u001b[0m\n",
            "\u001b[32m2022-08-23 22:27:01.403\u001b[0m | \u001b[1mINFO    \u001b[0m | \u001b[36mdehbws\u001b[0m:\u001b[36mrun\u001b[0m:\u001b[36m233\u001b[0m - \u001b[1mIncumbent score: 0.20693121667892211\u001b[0m\n",
            "\u001b[32m2022-08-23 22:27:01.404\u001b[0m | \u001b[1mINFO    \u001b[0m | \u001b[36mdehbws\u001b[0m:\u001b[36mrun\u001b[0m:\u001b[36m234\u001b[0m - \u001b[1mIncumbent config: \u001b[0m\n",
            "\u001b[32m2022-08-23 22:27:01.405\u001b[0m | \u001b[1mINFO    \u001b[0m | \u001b[36mdehbws\u001b[0m:\u001b[36mrun\u001b[0m:\u001b[36m238\u001b[0m - \u001b[1mActivation: Hardswish\u001b[0m\n",
            "\u001b[32m2022-08-23 22:27:01.405\u001b[0m | \u001b[1mINFO    \u001b[0m | \u001b[36mdehbws\u001b[0m:\u001b[36mrun\u001b[0m:\u001b[36m238\u001b[0m - \u001b[1mLearningRate: 0.007476312062252299\u001b[0m\n",
            "\u001b[32m2022-08-23 22:27:01.405\u001b[0m | \u001b[1mINFO    \u001b[0m | \u001b[36mdehbws\u001b[0m:\u001b[36mrun\u001b[0m:\u001b[36m238\u001b[0m - \u001b[1mOp1: 0\u001b[0m\n",
            "\u001b[32m2022-08-23 22:27:01.405\u001b[0m | \u001b[1mINFO    \u001b[0m | \u001b[36mdehbws\u001b[0m:\u001b[36mrun\u001b[0m:\u001b[36m238\u001b[0m - \u001b[1mOp2: 2\u001b[0m\n",
            "\u001b[32m2022-08-23 22:27:01.406\u001b[0m | \u001b[1mINFO    \u001b[0m | \u001b[36mdehbws\u001b[0m:\u001b[36mrun\u001b[0m:\u001b[36m238\u001b[0m - \u001b[1mOp3: 2\u001b[0m\n",
            "\u001b[32m2022-08-23 22:27:01.406\u001b[0m | \u001b[1mINFO    \u001b[0m | \u001b[36mdehbws\u001b[0m:\u001b[36mrun\u001b[0m:\u001b[36m238\u001b[0m - \u001b[1mOp4: 3\u001b[0m\n",
            "\u001b[32m2022-08-23 22:27:01.406\u001b[0m | \u001b[1mINFO    \u001b[0m | \u001b[36mdehbws\u001b[0m:\u001b[36mrun\u001b[0m:\u001b[36m238\u001b[0m - \u001b[1mOp5: 4\u001b[0m\n",
            "\u001b[32m2022-08-23 22:27:01.406\u001b[0m | \u001b[1mINFO    \u001b[0m | \u001b[36mdehbws\u001b[0m:\u001b[36mrun\u001b[0m:\u001b[36m238\u001b[0m - \u001b[1mOp6: 4\u001b[0m\n",
            "\u001b[32m2022-08-23 22:27:01.406\u001b[0m | \u001b[1mINFO    \u001b[0m | \u001b[36mdehbws\u001b[0m:\u001b[36mrun\u001b[0m:\u001b[36m238\u001b[0m - \u001b[1mOptimizer: SGD\u001b[0m\n",
            "\u001b[32m2022-08-23 22:27:01.407\u001b[0m | \u001b[1mINFO    \u001b[0m | \u001b[36mdehbws\u001b[0m:\u001b[36mrun\u001b[0m:\u001b[36m238\u001b[0m - \u001b[1mTrivialAugment: True\u001b[0m\n",
            "\u001b[32m2022-08-23 22:27:01.407\u001b[0m | \u001b[1mINFO    \u001b[0m | \u001b[36mdehbws\u001b[0m:\u001b[36mrun\u001b[0m:\u001b[36m238\u001b[0m - \u001b[1mWeightDecay: 0.006708188643346293\u001b[0m\n",
            "INFO:run_hpo_nas.py:Saving trajectory ...\n",
            "INFO:run_hpo_nas.py:Saving supernet model ...\n",
            "INFO:run_hpo_nas.py:Retraining on complete training data to compute test metrics...\n",
            "tcmalloc: large alloc 1073741824 bytes == 0x176ba6000 @  0x7fe79b754887 0x7fe79a04ac29 0x7fe79a04bafb 0x7fe79a04bbb4 0x7fe79a04bf9c 0x7fe70d3653b6 0x7fe70d45bb15 0x7fe70d334bcc 0x7fe79397bdae 0x7fe79397b71f 0x7fe793b9134e 0x7fe793b8c4e4 0x5d33ac 0x5c701e 0x4fdb26 0x4dfc76 0x5b2a18 0x4df395 0x5b2a18 0x4dfc76 0x5b2a18 0x4dfc1f 0x5d2640 0x5b2af1 0x4dfc76 0x5d2640 0x5b2af1 0x4df395 0x4fdb26 0x4df395 0x4fdb26\n",
            "tcmalloc: large alloc 2147483648 bytes == 0x7fe5d4000000 @  0x7fe79b754887 0x7fe79a04ac29 0x7fe79a04bafb 0x7fe79a04bbb4 0x7fe79a04bf9c 0x7fe70d3653b6 0x7fe70d45bb15 0x7fe70d334bcc 0x7fe79397bdae 0x7fe79397b71f 0x7fe793b9134e 0x7fe793b8c4e4 0x5d33ac 0x5c701e 0x4fdb26 0x4dfc76 0x5b2a18 0x4df395 0x5b2a18 0x4dfc76 0x5b2a18 0x4dfc1f 0x5d2640 0x5b2af1 0x4dfc76 0x5d2640 0x5b2af1 0x4df395 0x4fdb26 0x4df395 0x4fdb26\n",
            "^C\n"
          ]
        }
      ]
    },
    {
      "cell_type": "code",
      "source": [
        ""
      ],
      "metadata": {
        "colab": {
          "base_uri": "https://localhost:8080/"
        },
        "id": "-WKUF52ruaOA",
        "outputId": "3277bfc2-07b8-4e59-a762-19b66dec232f"
      },
      "execution_count": null,
      "outputs": [
        {
          "output_type": "stream",
          "name": "stdout",
          "text": [
            "Tue Aug 23 22:35:55 2022       \n",
            "+-----------------------------------------------------------------------------+\n",
            "| NVIDIA-SMI 460.32.03    Driver Version: 460.32.03    CUDA Version: 11.2     |\n",
            "|-------------------------------+----------------------+----------------------+\n",
            "| GPU  Name        Persistence-M| Bus-Id        Disp.A | Volatile Uncorr. ECC |\n",
            "| Fan  Temp  Perf  Pwr:Usage/Cap|         Memory-Usage | GPU-Util  Compute M. |\n",
            "|                               |                      |               MIG M. |\n",
            "|===============================+======================+======================|\n",
            "|   0  Tesla T4            Off  | 00000000:00:04.0 Off |                    0 |\n",
            "| N/A   38C    P8     9W /  70W |      0MiB / 15109MiB |      0%      Default |\n",
            "|                               |                      |                  N/A |\n",
            "+-------------------------------+----------------------+----------------------+\n",
            "                                                                               \n",
            "+-----------------------------------------------------------------------------+\n",
            "| Processes:                                                                  |\n",
            "|  GPU   GI   CI        PID   Type   Process name                  GPU Memory |\n",
            "|        ID   ID                                                   Usage      |\n",
            "|=============================================================================|\n",
            "|  No running processes found                                                 |\n",
            "+-----------------------------------------------------------------------------+\n"
          ]
        }
      ]
    },
    {
      "cell_type": "code",
      "source": [
        ""
      ],
      "metadata": {
        "id": "LFxUWveD2RKM"
      },
      "execution_count": null,
      "outputs": []
    }
  ]
}